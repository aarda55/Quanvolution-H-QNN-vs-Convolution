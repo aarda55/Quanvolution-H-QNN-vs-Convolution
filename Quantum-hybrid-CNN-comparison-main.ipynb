{
  "nbformat": 4,
  "nbformat_minor": 0,
  "metadata": {
    "colab": {
      "provenance": [],
      "gpuType": "T4",
      "collapsed_sections": [
        "yhmaAHh1hzLI",
        "V2y36gWADyZ0"
      ]
    },
    "kernelspec": {
      "name": "python3",
      "display_name": "Python 3"
    },
    "language_info": {
      "name": "python"
    },
    "accelerator": "GPU"
  },
  "cells": [
    {
      "cell_type": "markdown",
      "source": [
        "# **Setup**"
      ],
      "metadata": {
        "id": "yhmaAHh1hzLI"
      }
    },
    {
      "cell_type": "code",
      "source": [
        "!pip install silence-tensorflow"
      ],
      "metadata": {
        "colab": {
          "base_uri": "https://localhost:8080/"
        },
        "id": "83jPk-GENE55",
        "outputId": "55f547f2-5a7e-4628-97a0-cc3692c51ab0"
      },
      "execution_count": 11,
      "outputs": [
        {
          "output_type": "stream",
          "name": "stdout",
          "text": [
            "Collecting silence-tensorflow\n",
            "  Downloading silence_tensorflow-1.2.1.tar.gz (3.8 kB)\n",
            "  Preparing metadata (setup.py) ... \u001b[?25l\u001b[?25hdone\n",
            "Collecting support_developer (from silence-tensorflow)\n",
            "  Downloading support_developer-1.0.5.tar.gz (4.9 kB)\n",
            "  Preparing metadata (setup.py) ... \u001b[?25l\u001b[?25hdone\n",
            "Building wheels for collected packages: silence-tensorflow, support_developer\n",
            "  Building wheel for silence-tensorflow (setup.py) ... \u001b[?25l\u001b[?25hdone\n",
            "  Created wheel for silence-tensorflow: filename=silence_tensorflow-1.2.1-py3-none-any.whl size=4465 sha256=977b2e7f2ae81e55098b2a84a933b8264c47892c471589ddb5a71bc37378c273\n",
            "  Stored in directory: /root/.cache/pip/wheels/7d/2c/24/e130d6102c0df56631b9db7479d9a6a53c5d97fb06b5f61b98\n",
            "  Building wheel for support_developer (setup.py) ... \u001b[?25l\u001b[?25hdone\n",
            "  Created wheel for support_developer: filename=support_developer-1.0.5-py3-none-any.whl size=5630 sha256=b5e38e73fe3fbb147d2a0224c68e804eb281d89ff36dba585da757bc15c49867\n",
            "  Stored in directory: /root/.cache/pip/wheels/b6/72/c8/3054a5897ba0713dfa7a941364d68cbd42b0755c8e2ec1c18c\n",
            "Successfully built silence-tensorflow support_developer\n",
            "Installing collected packages: support_developer, silence-tensorflow\n",
            "Successfully installed silence-tensorflow-1.2.1 support_developer-1.0.5\n"
          ]
        }
      ]
    },
    {
      "cell_type": "code",
      "source": [
        "!pip install pennylane-sf --upgrade"
      ],
      "metadata": {
        "colab": {
          "base_uri": "https://localhost:8080/"
        },
        "id": "U4-eHOsmoRlr",
        "outputId": "93a47604-e836-447e-f857-5e70c42ba56e"
      },
      "execution_count": 1,
      "outputs": [
        {
          "output_type": "stream",
          "name": "stdout",
          "text": [
            "Collecting pennylane-sf\n",
            "  Downloading PennyLane_SF-0.29.1-py3-none-any.whl (29 kB)\n",
            "Collecting strawberryfields>=0.22 (from pennylane-sf)\n",
            "  Downloading StrawberryFields-0.23.0-py3-none-any.whl (4.9 MB)\n",
            "\u001b[2K     \u001b[90m━━━━━━━━━━━━━━━━━━━━━━━━━━━━━━━━━━━━━━━━\u001b[0m \u001b[32m4.9/4.9 MB\u001b[0m \u001b[31m35.9 MB/s\u001b[0m eta \u001b[36m0:00:00\u001b[0m\n",
            "\u001b[?25hCollecting pennylane<0.30,>=0.19 (from pennylane-sf)\n",
            "  Downloading PennyLane-0.29.1-py3-none-any.whl (1.3 MB)\n",
            "\u001b[2K     \u001b[90m━━━━━━━━━━━━━━━━━━━━━━━━━━━━━━━━━━━━━━━━\u001b[0m \u001b[32m1.3/1.3 MB\u001b[0m \u001b[31m16.6 MB/s\u001b[0m eta \u001b[36m0:00:00\u001b[0m\n",
            "\u001b[?25hRequirement already satisfied: numpy<1.24 in /usr/local/lib/python3.10/dist-packages (from pennylane<0.30,>=0.19->pennylane-sf) (1.22.4)\n",
            "Requirement already satisfied: scipy in /usr/local/lib/python3.10/dist-packages (from pennylane<0.30,>=0.19->pennylane-sf) (1.10.1)\n",
            "Requirement already satisfied: networkx in /usr/local/lib/python3.10/dist-packages (from pennylane<0.30,>=0.19->pennylane-sf) (3.1)\n",
            "Collecting retworkx (from pennylane<0.30,>=0.19->pennylane-sf)\n",
            "  Downloading retworkx-0.13.1-py3-none-any.whl (10 kB)\n",
            "Requirement already satisfied: autograd in /usr/local/lib/python3.10/dist-packages (from pennylane<0.30,>=0.19->pennylane-sf) (1.6.2)\n",
            "Requirement already satisfied: toml in /usr/local/lib/python3.10/dist-packages (from pennylane<0.30,>=0.19->pennylane-sf) (0.10.2)\n",
            "Requirement already satisfied: appdirs in /usr/local/lib/python3.10/dist-packages (from pennylane<0.30,>=0.19->pennylane-sf) (1.4.4)\n",
            "Collecting semantic-version>=2.7 (from pennylane<0.30,>=0.19->pennylane-sf)\n",
            "  Downloading semantic_version-2.10.0-py2.py3-none-any.whl (15 kB)\n",
            "Collecting autoray>=0.3.1 (from pennylane<0.30,>=0.19->pennylane-sf)\n",
            "  Downloading autoray-0.6.6-py3-none-any.whl (54 kB)\n",
            "\u001b[2K     \u001b[90m━━━━━━━━━━━━━━━━━━━━━━━━━━━━━━━━━━━━━━━━\u001b[0m \u001b[32m54.7/54.7 kB\u001b[0m \u001b[31m4.5 MB/s\u001b[0m eta \u001b[36m0:00:00\u001b[0m\n",
            "\u001b[?25hRequirement already satisfied: cachetools in /usr/local/lib/python3.10/dist-packages (from pennylane<0.30,>=0.19->pennylane-sf) (5.3.1)\n",
            "Collecting pennylane-lightning>=0.28 (from pennylane<0.30,>=0.19->pennylane-sf)\n",
            "  Downloading PennyLane_Lightning-0.31.0-cp310-cp310-manylinux_2_17_x86_64.manylinux2014_x86_64.whl (16.6 MB)\n",
            "\u001b[2K     \u001b[90m━━━━━━━━━━━━━━━━━━━━━━━━━━━━━━━━━━━━━━━━\u001b[0m \u001b[32m16.6/16.6 MB\u001b[0m \u001b[31m30.4 MB/s\u001b[0m eta \u001b[36m0:00:00\u001b[0m\n",
            "\u001b[?25hRequirement already satisfied: requests in /usr/local/lib/python3.10/dist-packages (from pennylane<0.30,>=0.19->pennylane-sf) (2.27.1)\n",
            "Requirement already satisfied: numba in /usr/local/lib/python3.10/dist-packages (from strawberryfields>=0.22->pennylane-sf) (0.56.4)\n",
            "Requirement already satisfied: python-dateutil>=2.8.0 in /usr/local/lib/python3.10/dist-packages (from strawberryfields>=0.22->pennylane-sf) (2.8.2)\n",
            "Collecting quantum-blackbird>=0.3.0 (from strawberryfields>=0.22->pennylane-sf)\n",
            "  Downloading quantum_blackbird-0.5.0-py3-none-any.whl (48 kB)\n",
            "\u001b[2K     \u001b[90m━━━━━━━━━━━━━━━━━━━━━━━━━━━━━━━━━━━━━━━━\u001b[0m \u001b[32m48.0/48.0 kB\u001b[0m \u001b[31m2.1 MB/s\u001b[0m eta \u001b[36m0:00:00\u001b[0m\n",
            "\u001b[?25hRequirement already satisfied: sympy>=1.5 in /usr/local/lib/python3.10/dist-packages (from strawberryfields>=0.22->pennylane-sf) (1.11.1)\n",
            "Collecting thewalrus>=0.18.0 (from strawberryfields>=0.22->pennylane-sf)\n",
            "  Downloading thewalrus-0.20.0.tar.gz (108 kB)\n",
            "\u001b[2K     \u001b[90m━━━━━━━━━━━━━━━━━━━━━━━━━━━━━━━━━━━━━━━\u001b[0m \u001b[32m108.6/108.6 kB\u001b[0m \u001b[31m5.8 MB/s\u001b[0m eta \u001b[36m0:00:00\u001b[0m\n",
            "\u001b[?25h  Preparing metadata (setup.py) ... \u001b[?25l\u001b[?25hdone\n",
            "Requirement already satisfied: urllib3>=1.25.3 in /usr/local/lib/python3.10/dist-packages (from strawberryfields>=0.22->pennylane-sf) (1.26.16)\n",
            "Collecting quantum-xir>=0.1.1 (from strawberryfields>=0.22->pennylane-sf)\n",
            "  Downloading quantum_xir-0.2.2-py3-none-any.whl (27 kB)\n",
            "Collecting xanadu-cloud-client>=0.2.1 (from strawberryfields>=0.22->pennylane-sf)\n",
            "  Downloading xanadu_cloud_client-0.3.1-py3-none-any.whl (25 kB)\n",
            "INFO: pip is looking at multiple versions of pennylane-lightning to determine which version is compatible with other requirements. This could take a while.\n",
            "Collecting pennylane-lightning>=0.28 (from pennylane<0.30,>=0.19->pennylane-sf)\n",
            "  Downloading PennyLane_Lightning-0.30.0-cp310-cp310-manylinux_2_17_x86_64.manylinux2014_x86_64.whl (16.6 MB)\n",
            "\u001b[2K     \u001b[90m━━━━━━━━━━━━━━━━━━━━━━━━━━━━━━━━━━━━━━━━\u001b[0m \u001b[32m16.6/16.6 MB\u001b[0m \u001b[31m1.9 MB/s\u001b[0m eta \u001b[36m0:00:00\u001b[0m\n",
            "\u001b[?25hRequirement already satisfied: six>=1.5 in /usr/local/lib/python3.10/dist-packages (from python-dateutil>=2.8.0->strawberryfields>=0.22->pennylane-sf) (1.16.0)\n",
            "Collecting antlr4-python3-runtime==4.9.2 (from quantum-blackbird>=0.3.0->strawberryfields>=0.22->pennylane-sf)\n",
            "  Downloading antlr4-python3-runtime-4.9.2.tar.gz (117 kB)\n",
            "\u001b[2K     \u001b[90m━━━━━━━━━━━━━━━━━━━━━━━━━━━━━━━━━━━━━━\u001b[0m \u001b[32m117.2/117.2 kB\u001b[0m \u001b[31m14.8 MB/s\u001b[0m eta \u001b[36m0:00:00\u001b[0m\n",
            "\u001b[?25h  Preparing metadata (setup.py) ... \u001b[?25l\u001b[?25hdone\n",
            "Collecting lark-parser>=0.11.0 (from quantum-xir>=0.1.1->strawberryfields>=0.22->pennylane-sf)\n",
            "  Downloading lark_parser-0.12.0-py2.py3-none-any.whl (103 kB)\n",
            "\u001b[2K     \u001b[90m━━━━━━━━━━━━━━━━━━━━━━━━━━━━━━━━━━━━━━\u001b[0m \u001b[32m103.5/103.5 kB\u001b[0m \u001b[31m14.6 MB/s\u001b[0m eta \u001b[36m0:00:00\u001b[0m\n",
            "\u001b[?25hRequirement already satisfied: certifi>=2017.4.17 in /usr/local/lib/python3.10/dist-packages (from requests->pennylane<0.30,>=0.19->pennylane-sf) (2023.7.22)\n",
            "Requirement already satisfied: charset-normalizer~=2.0.0 in /usr/local/lib/python3.10/dist-packages (from requests->pennylane<0.30,>=0.19->pennylane-sf) (2.0.12)\n",
            "Requirement already satisfied: idna<4,>=2.5 in /usr/local/lib/python3.10/dist-packages (from requests->pennylane<0.30,>=0.19->pennylane-sf) (3.4)\n",
            "Requirement already satisfied: mpmath>=0.19 in /usr/local/lib/python3.10/dist-packages (from sympy>=1.5->strawberryfields>=0.22->pennylane-sf) (1.3.0)\n",
            "Requirement already satisfied: dask[delayed] in /usr/local/lib/python3.10/dist-packages (from thewalrus>=0.18.0->strawberryfields>=0.22->pennylane-sf) (2022.12.1)\n",
            "Requirement already satisfied: llvmlite<0.40,>=0.39.0dev0 in /usr/local/lib/python3.10/dist-packages (from numba->strawberryfields>=0.22->pennylane-sf) (0.39.1)\n",
            "Requirement already satisfied: setuptools in /usr/local/lib/python3.10/dist-packages (from numba->strawberryfields>=0.22->pennylane-sf) (67.7.2)\n",
            "Collecting fire (from xanadu-cloud-client>=0.2.1->strawberryfields>=0.22->pennylane-sf)\n",
            "  Downloading fire-0.5.0.tar.gz (88 kB)\n",
            "\u001b[2K     \u001b[90m━━━━━━━━━━━━━━━━━━━━━━━━━━━━━━━━━━━━━━━━\u001b[0m \u001b[32m88.3/88.3 kB\u001b[0m \u001b[31m11.7 MB/s\u001b[0m eta \u001b[36m0:00:00\u001b[0m\n",
            "\u001b[?25h  Preparing metadata (setup.py) ... \u001b[?25l\u001b[?25hdone\n",
            "Requirement already satisfied: pydantic[dotenv]<2 in /usr/local/lib/python3.10/dist-packages (from xanadu-cloud-client>=0.2.1->strawberryfields>=0.22->pennylane-sf) (1.10.12)\n",
            "Requirement already satisfied: future>=0.15.2 in /usr/local/lib/python3.10/dist-packages (from autograd->pennylane<0.30,>=0.19->pennylane-sf) (0.18.3)\n",
            "Collecting rustworkx==0.13.1 (from retworkx->pennylane<0.30,>=0.19->pennylane-sf)\n",
            "  Downloading rustworkx-0.13.1-cp310-cp310-manylinux_2_17_x86_64.manylinux2014_x86_64.whl (2.0 MB)\n",
            "\u001b[2K     \u001b[90m━━━━━━━━━━━━━━━━━━━━━━━━━━━━━━━━━━━━━━━━\u001b[0m \u001b[32m2.0/2.0 MB\u001b[0m \u001b[31m102.2 MB/s\u001b[0m eta \u001b[36m0:00:00\u001b[0m\n",
            "\u001b[?25hRequirement already satisfied: typing-extensions>=4.2.0 in /usr/local/lib/python3.10/dist-packages (from pydantic[dotenv]<2->xanadu-cloud-client>=0.2.1->strawberryfields>=0.22->pennylane-sf) (4.7.1)\n",
            "Collecting python-dotenv>=0.10.4 (from pydantic[dotenv]<2->xanadu-cloud-client>=0.2.1->strawberryfields>=0.22->pennylane-sf)\n",
            "  Downloading python_dotenv-1.0.0-py3-none-any.whl (19 kB)\n",
            "Requirement already satisfied: click>=7.0 in /usr/local/lib/python3.10/dist-packages (from dask[delayed]->thewalrus>=0.18.0->strawberryfields>=0.22->pennylane-sf) (8.1.6)\n",
            "Requirement already satisfied: cloudpickle>=1.1.1 in /usr/local/lib/python3.10/dist-packages (from dask[delayed]->thewalrus>=0.18.0->strawberryfields>=0.22->pennylane-sf) (2.2.1)\n",
            "Requirement already satisfied: fsspec>=0.6.0 in /usr/local/lib/python3.10/dist-packages (from dask[delayed]->thewalrus>=0.18.0->strawberryfields>=0.22->pennylane-sf) (2023.6.0)\n",
            "Requirement already satisfied: packaging>=20.0 in /usr/local/lib/python3.10/dist-packages (from dask[delayed]->thewalrus>=0.18.0->strawberryfields>=0.22->pennylane-sf) (23.1)\n",
            "Requirement already satisfied: partd>=0.3.10 in /usr/local/lib/python3.10/dist-packages (from dask[delayed]->thewalrus>=0.18.0->strawberryfields>=0.22->pennylane-sf) (1.4.0)\n",
            "Requirement already satisfied: pyyaml>=5.3.1 in /usr/local/lib/python3.10/dist-packages (from dask[delayed]->thewalrus>=0.18.0->strawberryfields>=0.22->pennylane-sf) (6.0.1)\n",
            "Requirement already satisfied: toolz>=0.8.2 in /usr/local/lib/python3.10/dist-packages (from dask[delayed]->thewalrus>=0.18.0->strawberryfields>=0.22->pennylane-sf) (0.12.0)\n",
            "Requirement already satisfied: termcolor in /usr/local/lib/python3.10/dist-packages (from fire->xanadu-cloud-client>=0.2.1->strawberryfields>=0.22->pennylane-sf) (2.3.0)\n",
            "Requirement already satisfied: locket in /usr/local/lib/python3.10/dist-packages (from partd>=0.3.10->dask[delayed]->thewalrus>=0.18.0->strawberryfields>=0.22->pennylane-sf) (1.0.0)\n",
            "Building wheels for collected packages: antlr4-python3-runtime, thewalrus, fire\n",
            "  Building wheel for antlr4-python3-runtime (setup.py) ... \u001b[?25l\u001b[?25hdone\n",
            "  Created wheel for antlr4-python3-runtime: filename=antlr4_python3_runtime-4.9.2-py3-none-any.whl size=144546 sha256=84825b1e4c80b55d59c2b96ebea52f3d49b1a95b51d453ce5ba75036e8076a58\n",
            "  Stored in directory: /root/.cache/pip/wheels/af/c8/1f/dd6d90c5974896e85709e017986a6f72fcf32343bea042bc03\n",
            "  Building wheel for thewalrus (setup.py) ... \u001b[?25l\u001b[?25hdone\n",
            "  Created wheel for thewalrus: filename=thewalrus-0.20.0-py3-none-any.whl size=91857 sha256=87db69910c9c696192ba2543692133a16dec94da94ffc7760709e36668cf05e8\n",
            "  Stored in directory: /root/.cache/pip/wheels/32/de/2a/efbc338836cf04f49b71977c828b57c80f40965837d55a89c9\n",
            "  Building wheel for fire (setup.py) ... \u001b[?25l\u001b[?25hdone\n",
            "  Created wheel for fire: filename=fire-0.5.0-py2.py3-none-any.whl size=116932 sha256=eeba6ca07e6cc326a75dd0f61eda48352404ad1d3bdef5bcccce168e898b5fab\n",
            "  Stored in directory: /root/.cache/pip/wheels/90/d4/f7/9404e5db0116bd4d43e5666eaa3e70ab53723e1e3ea40c9a95\n",
            "Successfully built antlr4-python3-runtime thewalrus fire\n",
            "Installing collected packages: lark-parser, antlr4-python3-runtime, semantic-version, rustworkx, quantum-xir, python-dotenv, fire, autoray, retworkx, quantum-blackbird, xanadu-cloud-client, thewalrus, strawberryfields, pennylane-lightning, pennylane, pennylane-sf\n",
            "Successfully installed antlr4-python3-runtime-4.9.2 autoray-0.6.6 fire-0.5.0 lark-parser-0.12.0 pennylane-0.29.1 pennylane-lightning-0.30.0 pennylane-sf-0.29.1 python-dotenv-1.0.0 quantum-blackbird-0.5.0 quantum-xir-0.2.2 retworkx-0.13.1 rustworkx-0.13.1 semantic-version-2.10.0 strawberryfields-0.23.0 thewalrus-0.20.0 xanadu-cloud-client-0.3.1\n"
          ]
        }
      ]
    },
    {
      "cell_type": "markdown",
      "source": [
        "# **Dependencies**"
      ],
      "metadata": {
        "id": "V2y36gWADyZ0"
      }
    },
    {
      "cell_type": "code",
      "source": [
        "import numpy as np\n",
        "import pandas as pd\n",
        "from IPython.display import Image\n",
        "import matplotlib.pyplot as plt"
      ],
      "metadata": {
        "id": "iNAEZmquzIf1"
      },
      "execution_count": 2,
      "outputs": []
    },
    {
      "cell_type": "code",
      "source": [
        "import tensorflow as tf\n",
        "from keras.datasets import mnist\n",
        "from keras.utils import np_utils\n",
        "from tensorflow.keras.preprocessing.image import ImageDataGenerator\n",
        "from tensorflow.keras.models import Sequential\n",
        "from tensorflow.keras.layers import Dense, Dropout, Activation, Flatten\n",
        "from tensorflow.keras.layers import Conv2D, MaxPooling2D"
      ],
      "metadata": {
        "id": "OkpMKoOz6n_h"
      },
      "execution_count": 4,
      "outputs": []
    },
    {
      "cell_type": "code",
      "source": [
        "import pennylane as qml\n",
        "from pennylane import numpy as np\n",
        "from pennylane.templates import RandomLayers\n",
        "import tensorflow as tf\n",
        "from tensorflow import keras\n",
        "import matplotlib.pyplot as plt\n",
        "from silence_tensorflow import silence_tensorflow"
      ],
      "metadata": {
        "id": "IADZfWQAnTye"
      },
      "execution_count": 5,
      "outputs": []
    },
    {
      "cell_type": "markdown",
      "source": [
        "# **Loading Dataset**"
      ],
      "metadata": {
        "id": "TGIuO1DC7PIN"
      }
    },
    {
      "cell_type": "code",
      "source": [
        "mnist_dataset = keras.datasets.mnist\n",
        "(train_images, train_labels), (test_images, test_labels) = mnist_dataset.load_data()\n",
        "\n",
        "# Reduce dataset size\n",
        "train_images = train_images[:200]\n",
        "train_labels = train_labels[:200]\n",
        "test_images = test_images[:35]\n",
        "test_labels = test_labels[:35]\n",
        "\n",
        "# Normalize pixel values within 0 and 1\n",
        "train_images = train_images / 255"
      ],
      "metadata": {
        "id": "HbUX0TheNE2S",
        "colab": {
          "base_uri": "https://localhost:8080/"
        },
        "outputId": "8b88cd70-4236-4ff3-db12-8ce49f434079"
      },
      "execution_count": 6,
      "outputs": [
        {
          "output_type": "stream",
          "name": "stdout",
          "text": [
            "Downloading data from https://storage.googleapis.com/tensorflow/tf-keras-datasets/mnist.npz\n",
            "11490434/11490434 [==============================] - 2s 0us/step\n"
          ]
        }
      ]
    },
    {
      "cell_type": "markdown",
      "source": [
        "# Quantum Hybird-CNN"
      ],
      "metadata": {
        "id": "Ua58oYdtnGs2"
      }
    },
    {
      "cell_type": "code",
      "source": [
        "n_qubits = 4\n",
        "dev = qml.device(\"default.qubit\", wires=n_qubits)\n",
        "\n",
        "@qml.qnode(dev, interface=\"tf\", diff_method=\"backprop\", mutable=False)\n",
        "def qnode(inputs, weights):\n",
        "    qml.AngleEmbedding(inputs, wires=range(n_qubits))\n",
        "    qml.BasicEntanglerLayers(weights, wires=range(n_qubits))\n",
        "    return [qml.expval(qml.PauliZ(wires=i)) for i in range(n_qubits)]"
      ],
      "metadata": {
        "id": "xX_PkfYhnIrs",
        "colab": {
          "base_uri": "https://localhost:8080/"
        },
        "outputId": "cb8e2a17-6079-4db3-e0d2-336926cdf5c9"
      },
      "execution_count": 7,
      "outputs": [
        {
          "output_type": "stream",
          "name": "stderr",
          "text": [
            "/usr/local/lib/python3.10/dist-packages/pennylane/qnode.py:400: UserWarning: Received gradient_kwarg mutable, which is not included in the list of standard qnode gradient kwargs.\n",
            "  warnings.warn(\n"
          ]
        }
      ]
    },
    {
      "cell_type": "code",
      "source": [
        "n_layers = 6\n",
        "weight_shapes = {\"weights\": (n_layers, n_qubits)}"
      ],
      "metadata": {
        "id": "5PDrntKOqfFT"
      },
      "execution_count": 8,
      "outputs": []
    },
    {
      "cell_type": "code",
      "source": [
        "qlayer = qml.qnn.KerasLayer(qnode, weight_shapes, output_dim=n_qubits)"
      ],
      "metadata": {
        "id": "_2CAkixPsDLL"
      },
      "execution_count": 9,
      "outputs": []
    },
    {
      "cell_type": "code",
      "source": [
        "silence_tensorflow()\n",
        "\n",
        "model = Sequential()\n",
        "\n",
        "model.add(Conv2D(32, (3, 3), input_shape=(28,28,1)))\n",
        "model.add(Activation('relu'))\n",
        "model.add(MaxPooling2D(pool_size=(2, 2)))\n",
        "\n",
        "model.add(Flatten())\n",
        "\n",
        "model.add(Dense(4))\n",
        "model.add(Activation('relu'))\n",
        "\n",
        "model.add(qlayer)\n",
        "\n",
        "model.add(Dense(4))\n",
        "model.add(Activation('relu'))\n",
        "\n",
        "model.add(Dense(32))\n",
        "model.add(Activation('relu'))\n",
        "\n",
        "model.add(Dense(10))\n",
        "model.add(Activation('softmax'))\n",
        "\n",
        "model.compile(loss='sparse_categorical_crossentropy',\n",
        "              optimizer='adam',\n",
        "              metrics=['accuracy'])\n",
        "\n",
        "train_images = np.array(train_images)\n",
        "train_labels = np.array(train_labels)\n",
        "\n",
        "model_history = model.fit(train_images, train_labels, batch_size=1, epochs=10, validation_split=0.3, verbose=1)\n",
        "\n",
        "print(model.summary())\n",
        "pd.DataFrame(model_history.history).plot(figsize=(8,5))\n",
        "plt.show()"
      ],
      "metadata": {
        "colab": {
          "base_uri": "https://localhost:8080/",
          "height": 1000
        },
        "id": "LFN4pXufsFnu",
        "outputId": "e76dcc05-b5ff-42ed-a882-12be42d47379"
      },
      "execution_count": 12,
      "outputs": [
        {
          "output_type": "stream",
          "name": "stdout",
          "text": [
            "Epoch 1/10\n",
            "140/140 [==============================] - 79s 484ms/step - loss: 2.2861 - accuracy: 0.1071 - val_loss: 2.2671 - val_accuracy: 0.0667\n",
            "Epoch 2/10\n",
            "140/140 [==============================] - 63s 452ms/step - loss: 2.1798 - accuracy: 0.2071 - val_loss: 2.2817 - val_accuracy: 0.1333\n",
            "Epoch 3/10\n",
            "140/140 [==============================] - 63s 452ms/step - loss: 1.9880 - accuracy: 0.2714 - val_loss: 2.1599 - val_accuracy: 0.1333\n",
            "Epoch 4/10\n",
            "140/140 [==============================] - 63s 453ms/step - loss: 1.8577 - accuracy: 0.2643 - val_loss: 2.0608 - val_accuracy: 0.1333\n",
            "Epoch 5/10\n",
            "140/140 [==============================] - 63s 453ms/step - loss: 1.7447 - accuracy: 0.2786 - val_loss: 1.9634 - val_accuracy: 0.1500\n",
            "Epoch 6/10\n",
            "140/140 [==============================] - 67s 481ms/step - loss: 1.6748 - accuracy: 0.2429 - val_loss: 1.9586 - val_accuracy: 0.1667\n",
            "Epoch 7/10\n",
            "140/140 [==============================] - 63s 451ms/step - loss: 1.6406 - accuracy: 0.2643 - val_loss: 1.8447 - val_accuracy: 0.1333\n",
            "Epoch 8/10\n",
            "140/140 [==============================] - 63s 451ms/step - loss: 1.6259 - accuracy: 0.2714 - val_loss: 1.9292 - val_accuracy: 0.1833\n",
            "Epoch 9/10\n",
            "140/140 [==============================] - 64s 457ms/step - loss: 1.5903 - accuracy: 0.2857 - val_loss: 1.8002 - val_accuracy: 0.1500\n",
            "Epoch 10/10\n",
            "140/140 [==============================] - 63s 447ms/step - loss: 1.5419 - accuracy: 0.3214 - val_loss: 1.8072 - val_accuracy: 0.2833\n",
            "Model: \"sequential\"\n",
            "_________________________________________________________________\n",
            " Layer (type)                Output Shape              Param #   \n",
            "=================================================================\n",
            " conv2d (Conv2D)             (None, 26, 26, 32)        320       \n",
            "                                                                 \n",
            " activation (Activation)     (None, 26, 26, 32)        0         \n",
            "                                                                 \n",
            " max_pooling2d (MaxPooling2D  (None, 13, 13, 32)       0         \n",
            " )                                                               \n",
            "                                                                 \n",
            " flatten (Flatten)           (None, 5408)              0         \n",
            "                                                                 \n",
            " dense (Dense)               (None, 4)                 21636     \n",
            "                                                                 \n",
            " activation_1 (Activation)   (None, 4)                 0         \n",
            "                                                                 \n",
            " keras_layer (KerasLayer)    (None, 4)                 24        \n",
            "                                                                 \n",
            " dense_1 (Dense)             (None, 4)                 20        \n",
            "                                                                 \n",
            " activation_2 (Activation)   (None, 4)                 0         \n",
            "                                                                 \n",
            " dense_2 (Dense)             (None, 32)                160       \n",
            "                                                                 \n",
            " activation_3 (Activation)   (None, 32)                0         \n",
            "                                                                 \n",
            " dense_3 (Dense)             (None, 10)                330       \n",
            "                                                                 \n",
            " activation_4 (Activation)   (None, 10)                0         \n",
            "                                                                 \n",
            "=================================================================\n",
            "Total params: 22,490\n",
            "Trainable params: 22,490\n",
            "Non-trainable params: 0\n",
            "_________________________________________________________________\n",
            "None\n"
          ]
        },
        {
          "output_type": "display_data",
          "data": {
            "text/plain": [
              "<Figure size 800x500 with 1 Axes>"
            ],
            "image/png": "[encoded data removed]"
          },
          "metadata": {}
        }
      ]
    },
    {
      "cell_type": "markdown",
      "source": [
        "# **Implementation of classical CNN**\n",
        "Classical Keras CNN for comparison purposes"
      ],
      "metadata": {
        "id": "lkPb-XOlEy5p"
      }
    },
    {
      "cell_type": "code",
      "source": [
        "model = Sequential()\n",
        "\n",
        "model.add(Conv2D(32, (3, 3), input_shape=(28,28,1)))\n",
        "model.add(Activation('relu'))\n",
        "model.add(MaxPooling2D(pool_size=(2, 2)))\n",
        "\n",
        "model.add(Flatten())\n",
        "\n",
        "model.add(Dense(32))\n",
        "model.add(Activation('relu'))\n",
        "\n",
        "model.add(Dense(10))\n",
        "model.add(Activation('softmax'))\n",
        "\n",
        "model.compile(loss='sparse_categorical_crossentropy',\n",
        "              optimizer='adam',\n",
        "              metrics=['accuracy'])\n",
        "\n",
        "train_images = np.array(train_images)\n",
        "train_labels = np.array(train_labels)\n",
        "\n",
        "model_history = model.fit(train_images, train_labels, batch_size=1, epochs=10, validation_split=0.3)\n",
        "\n",
        "print(model.summary())\n",
        "pd.DataFrame(model_history.history).plot(figsize=(8,5))\n",
        "plt.show()"
      ],
      "metadata": {
        "colab": {
          "base_uri": "https://localhost:8080/",
          "height": 1000
        },
        "id": "JSHmDc1K6fdJ",
        "outputId": "2d648cc6-124e-4c45-d046-e25b0f7d3302"
      },
      "execution_count": 13,
      "outputs": [
        {
          "output_type": "stream",
          "name": "stdout",
          "text": [
            "Epoch 1/10\n",
            "140/140 [==============================] - 2s 5ms/step - loss: 1.9523 - accuracy: 0.3857 - val_loss: 1.6770 - val_accuracy: 0.5000\n",
            "Epoch 2/10\n",
            "140/140 [==============================] - 1s 4ms/step - loss: 0.8917 - accuracy: 0.7714 - val_loss: 1.1761 - val_accuracy: 0.7000\n",
            "Epoch 3/10\n",
            "140/140 [==============================] - 1s 4ms/step - loss: 0.3615 - accuracy: 0.9357 - val_loss: 1.1626 - val_accuracy: 0.7333\n",
            "Epoch 4/10\n",
            "140/140 [==============================] - 1s 4ms/step - loss: 0.1466 - accuracy: 0.9786 - val_loss: 1.4354 - val_accuracy: 0.7167\n",
            "Epoch 5/10\n",
            "140/140 [==============================] - 1s 4ms/step - loss: 0.0633 - accuracy: 0.9929 - val_loss: 1.2366 - val_accuracy: 0.7333\n",
            "Epoch 6/10\n",
            "140/140 [==============================] - 1s 4ms/step - loss: 0.0257 - accuracy: 1.0000 - val_loss: 1.3486 - val_accuracy: 0.7667\n",
            "Epoch 7/10\n",
            "140/140 [==============================] - 1s 4ms/step - loss: 0.0121 - accuracy: 1.0000 - val_loss: 1.4005 - val_accuracy: 0.7500\n",
            "Epoch 8/10\n",
            "140/140 [==============================] - 1s 4ms/step - loss: 0.0067 - accuracy: 1.0000 - val_loss: 1.4568 - val_accuracy: 0.7667\n",
            "Epoch 9/10\n",
            "140/140 [==============================] - 1s 4ms/step - loss: 0.0049 - accuracy: 1.0000 - val_loss: 1.4732 - val_accuracy: 0.7667\n",
            "Epoch 10/10\n",
            "140/140 [==============================] - 1s 4ms/step - loss: 0.0036 - accuracy: 1.0000 - val_loss: 1.5298 - val_accuracy: 0.7500\n",
            "Model: \"sequential_1\"\n",
            "_________________________________________________________________\n",
            " Layer (type)                Output Shape              Param #   \n",
            "=================================================================\n",
            " conv2d_1 (Conv2D)           (None, 26, 26, 32)        320       \n",
            "                                                                 \n",
            " activation_5 (Activation)   (None, 26, 26, 32)        0         \n",
            "                                                                 \n",
            " max_pooling2d_1 (MaxPooling  (None, 13, 13, 32)       0         \n",
            " 2D)                                                             \n",
            "                                                                 \n",
            " flatten_1 (Flatten)         (None, 5408)              0         \n",
            "                                                                 \n",
            " dense_4 (Dense)             (None, 32)                173088    \n",
            "                                                                 \n",
            " activation_6 (Activation)   (None, 32)                0         \n",
            "                                                                 \n",
            " dense_5 (Dense)             (None, 10)                330       \n",
            "                                                                 \n",
            " activation_7 (Activation)   (None, 10)                0         \n",
            "                                                                 \n",
            "=================================================================\n",
            "Total params: 173,738\n",
            "Trainable params: 173,738\n",
            "Non-trainable params: 0\n",
            "_________________________________________________________________\n",
            "None\n"
          ]
        },
        {
          "output_type": "display_data",
          "data": {
            "text/plain": [
              "<Figure size 800x500 with 1 Axes>"
            ],
            "image/png": "[encoded data removed]"
          },
          "metadata": {}
        }
      ]
    },
    {
      "cell_type": "markdown",
      "source": [
        "# **Conclusion**\n",
        "As can be seen by the graphical represantation of the Training process, the total accuracy of the Quantum hybrid-CNN is substantially lower. This might be due to optimization issues but can also be used as a testament of the instability of Quantum hybrid-CNNs, due to the classical CNN also not being optimized and still performing better. In addition the training time was lower on the classical CNN."
      ],
      "metadata": {
        "id": "yUkKQzwOl10B"
      }
    }
  ]
}